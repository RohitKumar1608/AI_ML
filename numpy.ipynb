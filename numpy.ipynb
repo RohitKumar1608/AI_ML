{
  "nbformat": 4,
  "nbformat_minor": 0,
  "metadata": {
    "colab": {
      "provenance": [],
      "authorship_tag": "ABX9TyNEP3uIasq02zeqcSlUPa5d",
      "include_colab_link": true
    },
    "kernelspec": {
      "name": "python3",
      "display_name": "Python 3"
    },
    "language_info": {
      "name": "python"
    }
  },
  "cells": [
    {
      "cell_type": "markdown",
      "metadata": {
        "id": "view-in-github",
        "colab_type": "text"
      },
      "source": [
        "<a href=\"https://colab.research.google.com/github/RohitKumar1608/AI_ML/blob/main/numpy.ipynb\" target=\"_parent\"><img src=\"https://colab.research.google.com/assets/colab-badge.svg\" alt=\"Open In Colab\"/></a>"
      ]
    },
    {
      "cell_type": "code",
      "execution_count": 2,
      "metadata": {
        "colab": {
          "base_uri": "https://localhost:8080/"
        },
        "id": "OSeBlKJn7NHp",
        "outputId": "a08c55ec-3e6a-4e75-c666-5372d1384f14"
      },
      "outputs": [
        {
          "output_type": "stream",
          "name": "stdout",
          "text": [
            "['Tesla' 'Tata' 'Ford' 'Nissan']\n"
          ]
        }
      ],
      "source": [
        "# Numpy takes list as an input and convert it to ndarray\n",
        "import numpy as np\n",
        "\n",
        "carlst = ['Tesla','Tata','Ford','Nissan']\n",
        "lst=np.array(carlst)\n",
        "print(lst)"
      ]
    },
    {
      "cell_type": "code",
      "source": [
        "# Matrix\n",
        "lst= np.array([[1,2,3],[4,5,6],[7,8,9]])\n",
        "print(lst)"
      ],
      "metadata": {
        "colab": {
          "base_uri": "https://localhost:8080/"
        },
        "id": "wRXfGMG7B1M3",
        "outputId": "7d81d261-a73d-49c7-82e8-ca45b05116ed"
      },
      "execution_count": 4,
      "outputs": [
        {
          "output_type": "stream",
          "name": "stdout",
          "text": [
            "[[1 2 3]\n",
            " [4 5 6]\n",
            " [7 8 9]]\n"
          ]
        }
      ]
    },
    {
      "cell_type": "code",
      "source": [
        "#arange\n",
        "ndarr= np.arange(0,10,2)\n",
        "print(ndarr)"
      ],
      "metadata": {
        "colab": {
          "base_uri": "https://localhost:8080/"
        },
        "id": "aqM4pCb2HIoj",
        "outputId": "54bf1b64-9c14-4ba2-c420-3b0f9b26364c"
      },
      "execution_count": 8,
      "outputs": [
        {
          "output_type": "stream",
          "name": "stdout",
          "text": [
            "[0 2 4 6 8]\n"
          ]
        }
      ]
    },
    {
      "cell_type": "code",
      "source": [
        "# linspace\n",
        "ndarr=np.linspace(0,5,10)\n",
        "print(ndarr)\n",
        "\n",
        "ndarr=np.linspace(10,20,10)\n",
        "print(ndarr)"
      ],
      "metadata": {
        "colab": {
          "base_uri": "https://localhost:8080/"
        },
        "id": "_IgpyRK2IELp",
        "outputId": "af630d43-5efe-4894-ae68-f1691f38750d"
      },
      "execution_count": 10,
      "outputs": [
        {
          "output_type": "stream",
          "name": "stdout",
          "text": [
            "[0.         0.55555556 1.11111111 1.66666667 2.22222222 2.77777778\n",
            " 3.33333333 3.88888889 4.44444444 5.        ]\n",
            "[10.         11.11111111 12.22222222 13.33333333 14.44444444 15.55555556\n",
            " 16.66666667 17.77777778 18.88888889 20.        ]\n"
          ]
        }
      ]
    },
    {
      "cell_type": "code",
      "source": [
        "# ZEROS (ROW, COLUMN)\n",
        "ndarr = np.zeros ([3,5])\n",
        "ndarr"
      ],
      "metadata": {
        "colab": {
          "base_uri": "https://localhost:8080/"
        },
        "id": "sNZFX0kXM6ur",
        "outputId": "e18ec0e9-256e-4499-a79f-3fc5fea316c4"
      },
      "execution_count": 4,
      "outputs": [
        {
          "output_type": "execute_result",
          "data": {
            "text/plain": [
              "array([[0., 0., 0., 0., 0.],\n",
              "       [0., 0., 0., 0., 0.],\n",
              "       [0., 0., 0., 0., 0.]])"
            ]
          },
          "metadata": {},
          "execution_count": 4
        }
      ]
    },
    {
      "cell_type": "code",
      "source": [
        "# ONES (ROW,COLUM)\n",
        "ndarr=np.ones([3,5])\n",
        "ndarr"
      ],
      "metadata": {
        "colab": {
          "base_uri": "https://localhost:8080/"
        },
        "id": "9Ye2PtW6Yfne",
        "outputId": "bee88307-5004-4194-eb3b-0b7e173d7141"
      },
      "execution_count": 5,
      "outputs": [
        {
          "output_type": "execute_result",
          "data": {
            "text/plain": [
              "array([[1., 1., 1., 1., 1.],\n",
              "       [1., 1., 1., 1., 1.],\n",
              "       [1., 1., 1., 1., 1.]])"
            ]
          },
          "metadata": {},
          "execution_count": 5
        }
      ]
    },
    {
      "cell_type": "code",
      "source": [
        "ndarr=np.eye(3)\n",
        "print(ndarr)"
      ],
      "metadata": {
        "colab": {
          "base_uri": "https://localhost:8080/"
        },
        "id": "tY81_xUJUCSK",
        "outputId": "8ebcb31b-5fb2-4846-84e5-785b368e81fc"
      },
      "execution_count": 6,
      "outputs": [
        {
          "output_type": "stream",
          "name": "stdout",
          "text": [
            "[[1. 0. 0.]\n",
            " [0. 1. 0.]\n",
            " [0. 0. 1.]]\n"
          ]
        }
      ]
    },
    {
      "cell_type": "code",
      "source": [
        "# Reshape\n",
        "# Reshape don't alter the ndarr but can be asigned to new numpy array\n",
        "ndarr=np.arange(0,10)\n",
        "print(ndarr)"
      ],
      "metadata": {
        "colab": {
          "base_uri": "https://localhost:8080/"
        },
        "id": "m1mDUDZxVjR4",
        "outputId": "9a1b39f1-93e6-417a-af0a-cf8709885e4e"
      },
      "execution_count": 8,
      "outputs": [
        {
          "output_type": "stream",
          "name": "stdout",
          "text": [
            "[0 1 2 3 4 5 6 7 8 9]\n"
          ]
        }
      ]
    },
    {
      "cell_type": "code",
      "source": [
        "print(ndarr.reshape(2,5))\n",
        "print(ndarr.reshape(5,2))"
      ],
      "metadata": {
        "colab": {
          "base_uri": "https://localhost:8080/"
        },
        "id": "la1t95xyXNC0",
        "outputId": "e06649c7-bbc3-4504-ce93-355efe7bef7a"
      },
      "execution_count": 11,
      "outputs": [
        {
          "output_type": "stream",
          "name": "stdout",
          "text": [
            "[[0 1 2 3 4]\n",
            " [5 6 7 8 9]]\n",
            "[[0 1]\n",
            " [2 3]\n",
            " [4 5]\n",
            " [6 7]\n",
            " [8 9]]\n"
          ]
        }
      ]
    },
    {
      "cell_type": "code",
      "source": [
        "print(np.sin(4))\n",
        "print(np.cos(4))\n",
        "print(np.tan(4))\n",
        "print(np.sin(ndarr))"
      ],
      "metadata": {
        "colab": {
          "base_uri": "https://localhost:8080/"
        },
        "id": "_ZpeafGdZ_iR",
        "outputId": "71c3fb9d-312b-4b12-ddc3-192af0949d8a"
      },
      "execution_count": 15,
      "outputs": [
        {
          "output_type": "stream",
          "name": "stdout",
          "text": [
            "-0.7568024953079282\n",
            "-0.6536436208636119\n",
            "1.1578212823495775\n",
            "[ 0.          0.84147098  0.90929743  0.14112001 -0.7568025  -0.95892427\n",
            " -0.2794155   0.6569866   0.98935825  0.41211849]\n"
          ]
        }
      ]
    },
    {
      "cell_type": "code",
      "source": [
        "# exponential\n",
        "print(np.exp(2))\n",
        "print(np.exp(ndarr))"
      ],
      "metadata": {
        "colab": {
          "base_uri": "https://localhost:8080/"
        },
        "id": "NN-_AfJjdIvZ",
        "outputId": "0d9c4d80-e40d-449e-ea4e-4ef4832d2755"
      },
      "execution_count": 17,
      "outputs": [
        {
          "output_type": "stream",
          "name": "stdout",
          "text": [
            "7.38905609893065\n",
            "[1.00000000e+00 2.71828183e+00 7.38905610e+00 2.00855369e+01\n",
            " 5.45981500e+01 1.48413159e+02 4.03428793e+02 1.09663316e+03\n",
            " 2.98095799e+03 8.10308393e+03]\n"
          ]
        }
      ]
    },
    {
      "cell_type": "code",
      "source": [
        "print(np.log(2.71))\n",
        "print(np.log10(10))"
      ],
      "metadata": {
        "colab": {
          "base_uri": "https://localhost:8080/"
        },
        "id": "y8KTBw8c1Gkq",
        "outputId": "2a2a014e-8cdc-4b64-c700-db7d70932782"
      },
      "execution_count": 7,
      "outputs": [
        {
          "output_type": "stream",
          "name": "stdout",
          "text": [
            "0.9969486348916096\n",
            "1.0\n"
          ]
        }
      ]
    },
    {
      "cell_type": "code",
      "source": [
        "# Adding list concatenate the two list\n",
        "l1= [1,2,3]\n",
        "l2 =[4,5,6]\n",
        "l1+l2"
      ],
      "metadata": {
        "colab": {
          "base_uri": "https://localhost:8080/"
        },
        "id": "olOkZ-S64rfl",
        "outputId": "9d32bf94-1f3f-4b31-aea3-2c99b13cd845"
      },
      "execution_count": 9,
      "outputs": [
        {
          "output_type": "execute_result",
          "data": {
            "text/plain": [
              "[1, 2, 3, 4, 5, 6]"
            ]
          },
          "metadata": {},
          "execution_count": 9
        }
      ]
    },
    {
      "cell_type": "code",
      "source": [
        "l1= [1,2,3]\n",
        "l2 =[4,5,6]\n",
        "ndarr =np.array(l1) + np.array(l2)\n",
        "ndarr"
      ],
      "metadata": {
        "colab": {
          "base_uri": "https://localhost:8080/"
        },
        "id": "E3GVJXcK4-AN",
        "outputId": "234c158c-5659-4296-badd-5d6486287741"
      },
      "execution_count": 12,
      "outputs": [
        {
          "output_type": "execute_result",
          "data": {
            "text/plain": [
              "array([5, 7, 9])"
            ]
          },
          "metadata": {},
          "execution_count": 12
        }
      ]
    },
    {
      "cell_type": "code",
      "source": [
        "arr1 = np.arange(1,6)\n",
        "arr2 = np.arange(3,8)\n",
        "print(\"addition\", arr1+arr2)\n",
        "print(\"substraction\", arr2-arr1)\n",
        "print(\"Multiplication\", arr1 * arr2)\n",
        "print(\"Division\", arr1/arr2)\n",
        "print(\"Inverse\", 1/arr1)\n",
        "print(\"Power\", arr1 ** arr2)"
      ],
      "metadata": {
        "colab": {
          "base_uri": "https://localhost:8080/"
        },
        "id": "nKlLnkdO6TkU",
        "outputId": "93f6f49d-3d14-4b9f-b3f9-7e1c2b5c99ad"
      },
      "execution_count": 15,
      "outputs": [
        {
          "output_type": "stream",
          "name": "stdout",
          "text": [
            "addition [ 4  6  8 10 12]\n",
            "substraction [2 2 2 2 2]\n",
            "Multiplication [ 3  8 15 24 35]\n",
            "Division [0.33333333 0.5        0.6        0.66666667 0.71428571]\n",
            "Inverse [1.         0.5        0.33333333 0.25       0.2       ]\n",
            "Power [    1    16   243  4096 78125]\n"
          ]
        }
      ]
    },
    {
      "cell_type": "code",
      "source": [
        "# MATRIX OPERATION\n",
        "ndarr1= np.arange(1,10).reshape(3,3)\n",
        "print(ndarr1)\n",
        "ndarr2= np.eye(3)\n",
        "print(ndarr2)\n",
        "\n",
        "print(ndarr1 + ndarr2)\n",
        "print(ndarr2 - ndarr1)\n",
        "print(ndarr1 * ndarr2)\n",
        "print(ndarr1 / ndarr2)\n",
        "# Matrix multilication as per Linear Algebra\n",
        "print(ndarr1 @ ndarr2) # Not clear how it calculate\n",
        "\n",
        "# Transpose a matrix\n",
        "np.transpose(ndarr1)\n"
      ],
      "metadata": {
        "colab": {
          "base_uri": "https://localhost:8080/"
        },
        "id": "gGfdyQq-_All",
        "outputId": "c56600aa-98da-476e-9804-af67eba12319"
      },
      "execution_count": 29,
      "outputs": [
        {
          "output_type": "stream",
          "name": "stdout",
          "text": [
            "[[1 2 3]\n",
            " [4 5 6]\n",
            " [7 8 9]]\n",
            "[[1. 0. 0.]\n",
            " [0. 1. 0.]\n",
            " [0. 0. 1.]]\n",
            "[[ 2.  2.  3.]\n",
            " [ 4.  6.  6.]\n",
            " [ 7.  8. 10.]]\n",
            "[[ 0. -2. -3.]\n",
            " [-4. -4. -6.]\n",
            " [-7. -8. -8.]]\n",
            "[[1. 0. 0.]\n",
            " [0. 5. 0.]\n",
            " [0. 0. 9.]]\n",
            "[[ 1. inf inf]\n",
            " [inf  5. inf]\n",
            " [inf inf  9.]]\n",
            "[[1. 2. 3.]\n",
            " [4. 5. 6.]\n",
            " [7. 8. 9.]]\n",
            "[[1 4 7]\n",
            " [2 5 8]\n",
            " [3 6 9]]\n"
          ]
        },
        {
          "output_type": "stream",
          "name": "stderr",
          "text": [
            "<ipython-input-29-de5cdf11a7d9>:10: RuntimeWarning: divide by zero encountered in divide\n",
            "  print(ndarr1 / ndarr2)\n"
          ]
        }
      ]
    },
    {
      "cell_type": "code",
      "source": [
        "ndarr1.T"
      ],
      "metadata": {
        "colab": {
          "base_uri": "https://localhost:8080/"
        },
        "id": "zv4RaDaK_vSg",
        "outputId": "9a198e61-804b-443e-c996-189fa524b2ce"
      },
      "execution_count": 30,
      "outputs": [
        {
          "output_type": "execute_result",
          "data": {
            "text/plain": [
              "array([[1, 4, 7],\n",
              "       [2, 5, 8],\n",
              "       [3, 6, 9]])"
            ]
          },
          "metadata": {},
          "execution_count": 30
        }
      ]
    },
    {
      "cell_type": "code",
      "source": [
        "vec1 = np.linspace(20,50,4)\n",
        "vec2 = np.linspace(100,120,3)\n",
        "print(vec1 + vec2)"
      ],
      "metadata": {
        "colab": {
          "base_uri": "https://localhost:8080/",
          "height": 180
        },
        "id": "EHgvgsEZDWVp",
        "outputId": "cd8e59c7-f9e2-4c6f-a326-2ff8f2764904"
      },
      "execution_count": 31,
      "outputs": [
        {
          "output_type": "error",
          "ename": "ValueError",
          "evalue": "operands could not be broadcast together with shapes (4,) (3,) ",
          "traceback": [
            "\u001b[0;31m---------------------------------------------------------------------------\u001b[0m",
            "\u001b[0;31mValueError\u001b[0m                                Traceback (most recent call last)",
            "\u001b[0;32m<ipython-input-31-4ce0aef42459>\u001b[0m in \u001b[0;36m<cell line: 3>\u001b[0;34m()\u001b[0m\n\u001b[1;32m      1\u001b[0m \u001b[0mvec1\u001b[0m \u001b[0;34m=\u001b[0m \u001b[0mnp\u001b[0m\u001b[0;34m.\u001b[0m\u001b[0mlinspace\u001b[0m\u001b[0;34m(\u001b[0m\u001b[0;36m20\u001b[0m\u001b[0;34m,\u001b[0m\u001b[0;36m50\u001b[0m\u001b[0;34m,\u001b[0m\u001b[0;36m4\u001b[0m\u001b[0;34m)\u001b[0m\u001b[0;34m\u001b[0m\u001b[0;34m\u001b[0m\u001b[0m\n\u001b[1;32m      2\u001b[0m \u001b[0mvec2\u001b[0m \u001b[0;34m=\u001b[0m \u001b[0mnp\u001b[0m\u001b[0;34m.\u001b[0m\u001b[0mlinspace\u001b[0m\u001b[0;34m(\u001b[0m\u001b[0;36m100\u001b[0m\u001b[0;34m,\u001b[0m\u001b[0;36m120\u001b[0m\u001b[0;34m,\u001b[0m\u001b[0;36m3\u001b[0m\u001b[0;34m)\u001b[0m\u001b[0;34m\u001b[0m\u001b[0;34m\u001b[0m\u001b[0m\n\u001b[0;32m----> 3\u001b[0;31m \u001b[0mprint\u001b[0m\u001b[0;34m(\u001b[0m\u001b[0mvec1\u001b[0m \u001b[0;34m+\u001b[0m \u001b[0mvec2\u001b[0m\u001b[0;34m)\u001b[0m\u001b[0;34m\u001b[0m\u001b[0;34m\u001b[0m\u001b[0m\n\u001b[0m",
            "\u001b[0;31mValueError\u001b[0m: operands could not be broadcast together with shapes (4,) (3,) "
          ]
        }
      ]
    },
    {
      "cell_type": "code",
      "source": [],
      "metadata": {
        "id": "nfR2WnMmEQ2d"
      },
      "execution_count": null,
      "outputs": []
    }
  ]
}