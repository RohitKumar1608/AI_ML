{
  "nbformat": 4,
  "nbformat_minor": 0,
  "metadata": {
    "colab": {
      "provenance": [],
      "authorship_tag": "ABX9TyNFq2WCffprDIgz8LYrS9gH",
      "include_colab_link": true
    },
    "kernelspec": {
      "name": "python3",
      "display_name": "Python 3"
    },
    "language_info": {
      "name": "python"
    }
  },
  "cells": [
    {
      "cell_type": "markdown",
      "metadata": {
        "id": "view-in-github",
        "colab_type": "text"
      },
      "source": [
        "<a href=\"https://colab.research.google.com/github/RohitKumar1608/AI_ML/blob/main/numpy.ipynb\" target=\"_parent\"><img src=\"https://colab.research.google.com/assets/colab-badge.svg\" alt=\"Open In Colab\"/></a>"
      ]
    },
    {
      "cell_type": "code",
      "execution_count": null,
      "metadata": {
        "colab": {
          "base_uri": "https://localhost:8080/"
        },
        "id": "OSeBlKJn7NHp",
        "outputId": "ade25b51-286d-4f21-95c1-298c69132be9"
      },
      "outputs": [
        {
          "output_type": "stream",
          "name": "stdout",
          "text": [
            "['Tesla' 'Tata' 'Ford' 'Nissan']\n"
          ]
        }
      ],
      "source": [
        "  # Numpy takes list as an input and convert it to ndarray\n",
        "import numpy as np\n",
        "\n",
        "carlst = ['Tesla','Tata','Ford','Nissan']\n",
        "lst=np.array(carlst)\n",
        "print(lst)"
      ]
    },
    {
      "cell_type": "code",
      "source": [
        "# Matrix\n",
        "lst= np.array([[1,2,3],[4,5,6],[7,8,9]])\n",
        "print(lst)"
      ],
      "metadata": {
        "colab": {
          "base_uri": "https://localhost:8080/"
        },
        "id": "wRXfGMG7B1M3",
        "outputId": "7d81d261-a73d-49c7-82e8-ca45b05116ed"
      },
      "execution_count": null,
      "outputs": [
        {
          "output_type": "stream",
          "name": "stdout",
          "text": [
            "[[1 2 3]\n",
            " [4 5 6]\n",
            " [7 8 9]]\n"
          ]
        }
      ]
    },
    {
      "cell_type": "code",
      "source": [
        "#arange\n",
        "ndarr= np.arange(0,10,2)\n",
        "print(ndarr)"
      ],
      "metadata": {
        "colab": {
          "base_uri": "https://localhost:8080/"
        },
        "id": "aqM4pCb2HIoj",
        "outputId": "54bf1b64-9c14-4ba2-c420-3b0f9b26364c"
      },
      "execution_count": null,
      "outputs": [
        {
          "output_type": "stream",
          "name": "stdout",
          "text": [
            "[0 2 4 6 8]\n"
          ]
        }
      ]
    },
    {
      "cell_type": "code",
      "source": [
        "# linspace\n",
        "ndarr=np.linspace(0,5,10)\n",
        "print(ndarr)\n",
        "\n",
        "ndarr=np.linspace(10,20,10)\n",
        "print(ndarr)"
      ],
      "metadata": {
        "colab": {
          "base_uri": "https://localhost:8080/"
        },
        "id": "_IgpyRK2IELp",
        "outputId": "af630d43-5efe-4894-ae68-f1691f38750d"
      },
      "execution_count": null,
      "outputs": [
        {
          "output_type": "stream",
          "name": "stdout",
          "text": [
            "[0.         0.55555556 1.11111111 1.66666667 2.22222222 2.77777778\n",
            " 3.33333333 3.88888889 4.44444444 5.        ]\n",
            "[10.         11.11111111 12.22222222 13.33333333 14.44444444 15.55555556\n",
            " 16.66666667 17.77777778 18.88888889 20.        ]\n"
          ]
        }
      ]
    },
    {
      "cell_type": "code",
      "source": [
        "# ZEROS (ROW, COLUMN)\n",
        "ndarr = np.zeros ([3,5])\n",
        "ndarr"
      ],
      "metadata": {
        "colab": {
          "base_uri": "https://localhost:8080/"
        },
        "id": "sNZFX0kXM6ur",
        "outputId": "e18ec0e9-256e-4499-a79f-3fc5fea316c4"
      },
      "execution_count": null,
      "outputs": [
        {
          "output_type": "execute_result",
          "data": {
            "text/plain": [
              "array([[0., 0., 0., 0., 0.],\n",
              "       [0., 0., 0., 0., 0.],\n",
              "       [0., 0., 0., 0., 0.]])"
            ]
          },
          "metadata": {},
          "execution_count": 4
        }
      ]
    },
    {
      "cell_type": "code",
      "source": [
        "# ONES (ROW,COLUM)\n",
        "ndarr=np.ones([3,5])\n",
        "ndarr"
      ],
      "metadata": {
        "colab": {
          "base_uri": "https://localhost:8080/"
        },
        "id": "9Ye2PtW6Yfne",
        "outputId": "bee88307-5004-4194-eb3b-0b7e173d7141"
      },
      "execution_count": null,
      "outputs": [
        {
          "output_type": "execute_result",
          "data": {
            "text/plain": [
              "array([[1., 1., 1., 1., 1.],\n",
              "       [1., 1., 1., 1., 1.],\n",
              "       [1., 1., 1., 1., 1.]])"
            ]
          },
          "metadata": {},
          "execution_count": 5
        }
      ]
    },
    {
      "cell_type": "code",
      "source": [
        "ndarr=np.eye(3)\n",
        "print(ndarr)"
      ],
      "metadata": {
        "colab": {
          "base_uri": "https://localhost:8080/"
        },
        "id": "tY81_xUJUCSK",
        "outputId": "8ebcb31b-5fb2-4846-84e5-785b368e81fc"
      },
      "execution_count": null,
      "outputs": [
        {
          "output_type": "stream",
          "name": "stdout",
          "text": [
            "[[1. 0. 0.]\n",
            " [0. 1. 0.]\n",
            " [0. 0. 1.]]\n"
          ]
        }
      ]
    },
    {
      "cell_type": "code",
      "source": [
        "# Reshape\n",
        "# Reshape don't alter the ndarr but can be asigned to new numpy array\n",
        "ndarr=np.arange(0,10)\n",
        "print(ndarr)"
      ],
      "metadata": {
        "colab": {
          "base_uri": "https://localhost:8080/"
        },
        "id": "m1mDUDZxVjR4",
        "outputId": "9a1b39f1-93e6-417a-af0a-cf8709885e4e"
      },
      "execution_count": null,
      "outputs": [
        {
          "output_type": "stream",
          "name": "stdout",
          "text": [
            "[0 1 2 3 4 5 6 7 8 9]\n"
          ]
        }
      ]
    },
    {
      "cell_type": "code",
      "source": [
        "print(ndarr.reshape(2,5))\n",
        "print(ndarr.reshape(5,2))"
      ],
      "metadata": {
        "colab": {
          "base_uri": "https://localhost:8080/"
        },
        "id": "la1t95xyXNC0",
        "outputId": "e06649c7-bbc3-4504-ce93-355efe7bef7a"
      },
      "execution_count": null,
      "outputs": [
        {
          "output_type": "stream",
          "name": "stdout",
          "text": [
            "[[0 1 2 3 4]\n",
            " [5 6 7 8 9]]\n",
            "[[0 1]\n",
            " [2 3]\n",
            " [4 5]\n",
            " [6 7]\n",
            " [8 9]]\n"
          ]
        }
      ]
    },
    {
      "cell_type": "code",
      "source": [
        "print(np.sin(4))\n",
        "print(np.cos(4))\n",
        "print(np.tan(4))\n",
        "print(np.sin(ndarr))"
      ],
      "metadata": {
        "colab": {
          "base_uri": "https://localhost:8080/"
        },
        "id": "_ZpeafGdZ_iR",
        "outputId": "71c3fb9d-312b-4b12-ddc3-192af0949d8a"
      },
      "execution_count": null,
      "outputs": [
        {
          "output_type": "stream",
          "name": "stdout",
          "text": [
            "-0.7568024953079282\n",
            "-0.6536436208636119\n",
            "1.1578212823495775\n",
            "[ 0.          0.84147098  0.90929743  0.14112001 -0.7568025  -0.95892427\n",
            " -0.2794155   0.6569866   0.98935825  0.41211849]\n"
          ]
        }
      ]
    },
    {
      "cell_type": "code",
      "source": [
        "# exponential\n",
        "print(np.exp(2))\n",
        "print(np.exp(ndarr))"
      ],
      "metadata": {
        "colab": {
          "base_uri": "https://localhost:8080/"
        },
        "id": "NN-_AfJjdIvZ",
        "outputId": "0d9c4d80-e40d-449e-ea4e-4ef4832d2755"
      },
      "execution_count": null,
      "outputs": [
        {
          "output_type": "stream",
          "name": "stdout",
          "text": [
            "7.38905609893065\n",
            "[1.00000000e+00 2.71828183e+00 7.38905610e+00 2.00855369e+01\n",
            " 5.45981500e+01 1.48413159e+02 4.03428793e+02 1.09663316e+03\n",
            " 2.98095799e+03 8.10308393e+03]\n"
          ]
        }
      ]
    },
    {
      "cell_type": "code",
      "source": [
        "print(np.log(2.71))\n",
        "print(np.log10(10))"
      ],
      "metadata": {
        "colab": {
          "base_uri": "https://localhost:8080/"
        },
        "id": "y8KTBw8c1Gkq",
        "outputId": "2a2a014e-8cdc-4b64-c700-db7d70932782"
      },
      "execution_count": null,
      "outputs": [
        {
          "output_type": "stream",
          "name": "stdout",
          "text": [
            "0.9969486348916096\n",
            "1.0\n"
          ]
        }
      ]
    },
    {
      "cell_type": "code",
      "source": [
        "# Adding list concatenate the two list\n",
        "l1= [1,2,3]\n",
        "l2 =[4,5,6]\n",
        "l1+l2"
      ],
      "metadata": {
        "colab": {
          "base_uri": "https://localhost:8080/"
        },
        "id": "olOkZ-S64rfl",
        "outputId": "9d32bf94-1f3f-4b31-aea3-2c99b13cd845"
      },
      "execution_count": null,
      "outputs": [
        {
          "output_type": "execute_result",
          "data": {
            "text/plain": [
              "[1, 2, 3, 4, 5, 6]"
            ]
          },
          "metadata": {},
          "execution_count": 9
        }
      ]
    },
    {
      "cell_type": "code",
      "source": [
        "l1= [1,2,3]\n",
        "l2 =[4,5,6]\n",
        "ndarr =np.array(l1) + np.array(l2)\n",
        "ndarr"
      ],
      "metadata": {
        "colab": {
          "base_uri": "https://localhost:8080/"
        },
        "id": "E3GVJXcK4-AN",
        "outputId": "234c158c-5659-4296-badd-5d6486287741"
      },
      "execution_count": null,
      "outputs": [
        {
          "output_type": "execute_result",
          "data": {
            "text/plain": [
              "array([5, 7, 9])"
            ]
          },
          "metadata": {},
          "execution_count": 12
        }
      ]
    },
    {
      "cell_type": "code",
      "source": [
        "arr1 = np.arange(1,6)\n",
        "arr2 = np.arange(3,8)\n",
        "print(\"addition\", arr1+arr2)\n",
        "print(\"substraction\", arr2-arr1)\n",
        "print(\"Multiplication\", arr1 * arr2)\n",
        "print(\"Division\", arr1/arr2)\n",
        "print(\"Inverse\", 1/arr1)\n",
        "print(\"Power\", arr1 ** arr2)"
      ],
      "metadata": {
        "colab": {
          "base_uri": "https://localhost:8080/"
        },
        "id": "nKlLnkdO6TkU",
        "outputId": "93f6f49d-3d14-4b9f-b3f9-7e1c2b5c99ad"
      },
      "execution_count": null,
      "outputs": [
        {
          "output_type": "stream",
          "name": "stdout",
          "text": [
            "addition [ 4  6  8 10 12]\n",
            "substraction [2 2 2 2 2]\n",
            "Multiplication [ 3  8 15 24 35]\n",
            "Division [0.33333333 0.5        0.6        0.66666667 0.71428571]\n",
            "Inverse [1.         0.5        0.33333333 0.25       0.2       ]\n",
            "Power [    1    16   243  4096 78125]\n"
          ]
        }
      ]
    },
    {
      "cell_type": "code",
      "source": [
        "# MATRIX OPERATION\n",
        "ndarr1= np.arange(1,10).reshape(3,3)\n",
        "print(ndarr1)\n",
        "ndarr2= np.eye(3)\n",
        "print(ndarr2)\n",
        "\n",
        "print(ndarr1 + ndarr2)\n",
        "print(ndarr2 - ndarr1)\n",
        "print(ndarr1 * ndarr2)\n",
        "print(ndarr1 / ndarr2)\n",
        "# Matrix multilication as per Linear Algebra\n",
        "print(ndarr1 @ ndarr2) # Not clear how it calculate\n",
        "\n",
        "# Transpose a matrix\n",
        "np.transpose(ndarr1)\n"
      ],
      "metadata": {
        "colab": {
          "base_uri": "https://localhost:8080/"
        },
        "id": "gGfdyQq-_All",
        "outputId": "c56600aa-98da-476e-9804-af67eba12319"
      },
      "execution_count": null,
      "outputs": [
        {
          "output_type": "stream",
          "name": "stdout",
          "text": [
            "[[1 2 3]\n",
            " [4 5 6]\n",
            " [7 8 9]]\n",
            "[[1. 0. 0.]\n",
            " [0. 1. 0.]\n",
            " [0. 0. 1.]]\n",
            "[[ 2.  2.  3.]\n",
            " [ 4.  6.  6.]\n",
            " [ 7.  8. 10.]]\n",
            "[[ 0. -2. -3.]\n",
            " [-4. -4. -6.]\n",
            " [-7. -8. -8.]]\n",
            "[[1. 0. 0.]\n",
            " [0. 5. 0.]\n",
            " [0. 0. 9.]]\n",
            "[[ 1. inf inf]\n",
            " [inf  5. inf]\n",
            " [inf inf  9.]]\n",
            "[[1. 2. 3.]\n",
            " [4. 5. 6.]\n",
            " [7. 8. 9.]]\n",
            "[[1 4 7]\n",
            " [2 5 8]\n",
            " [3 6 9]]\n"
          ]
        },
        {
          "output_type": "stream",
          "name": "stderr",
          "text": [
            "<ipython-input-29-de5cdf11a7d9>:10: RuntimeWarning: divide by zero encountered in divide\n",
            "  print(ndarr1 / ndarr2)\n"
          ]
        }
      ]
    },
    {
      "cell_type": "code",
      "source": [
        "ndarr1.T"
      ],
      "metadata": {
        "colab": {
          "base_uri": "https://localhost:8080/"
        },
        "id": "zv4RaDaK_vSg",
        "outputId": "9a198e61-804b-443e-c996-189fa524b2ce"
      },
      "execution_count": null,
      "outputs": [
        {
          "output_type": "execute_result",
          "data": {
            "text/plain": [
              "array([[1, 4, 7],\n",
              "       [2, 5, 8],\n",
              "       [3, 6, 9]])"
            ]
          },
          "metadata": {},
          "execution_count": 30
        }
      ]
    },
    {
      "cell_type": "code",
      "source": [
        "vec1 = np.linspace(20,50,4)\n",
        "vec2 = np.linspace(100,120,3)\n",
        "print(vec1 + vec2)"
      ],
      "metadata": {
        "colab": {
          "base_uri": "https://localhost:8080/",
          "height": 180
        },
        "id": "EHgvgsEZDWVp",
        "outputId": "cd8e59c7-f9e2-4c6f-a326-2ff8f2764904"
      },
      "execution_count": null,
      "outputs": [
        {
          "output_type": "error",
          "ename": "ValueError",
          "evalue": "operands could not be broadcast together with shapes (4,) (3,) ",
          "traceback": [
            "\u001b[0;31m---------------------------------------------------------------------------\u001b[0m",
            "\u001b[0;31mValueError\u001b[0m                                Traceback (most recent call last)",
            "\u001b[0;32m<ipython-input-31-4ce0aef42459>\u001b[0m in \u001b[0;36m<cell line: 3>\u001b[0;34m()\u001b[0m\n\u001b[1;32m      1\u001b[0m \u001b[0mvec1\u001b[0m \u001b[0;34m=\u001b[0m \u001b[0mnp\u001b[0m\u001b[0;34m.\u001b[0m\u001b[0mlinspace\u001b[0m\u001b[0;34m(\u001b[0m\u001b[0;36m20\u001b[0m\u001b[0;34m,\u001b[0m\u001b[0;36m50\u001b[0m\u001b[0;34m,\u001b[0m\u001b[0;36m4\u001b[0m\u001b[0;34m)\u001b[0m\u001b[0;34m\u001b[0m\u001b[0;34m\u001b[0m\u001b[0m\n\u001b[1;32m      2\u001b[0m \u001b[0mvec2\u001b[0m \u001b[0;34m=\u001b[0m \u001b[0mnp\u001b[0m\u001b[0;34m.\u001b[0m\u001b[0mlinspace\u001b[0m\u001b[0;34m(\u001b[0m\u001b[0;36m100\u001b[0m\u001b[0;34m,\u001b[0m\u001b[0;36m120\u001b[0m\u001b[0;34m,\u001b[0m\u001b[0;36m3\u001b[0m\u001b[0;34m)\u001b[0m\u001b[0;34m\u001b[0m\u001b[0;34m\u001b[0m\u001b[0m\n\u001b[0;32m----> 3\u001b[0;31m \u001b[0mprint\u001b[0m\u001b[0;34m(\u001b[0m\u001b[0mvec1\u001b[0m \u001b[0;34m+\u001b[0m \u001b[0mvec2\u001b[0m\u001b[0;34m)\u001b[0m\u001b[0;34m\u001b[0m\u001b[0;34m\u001b[0m\u001b[0m\n\u001b[0m",
            "\u001b[0;31mValueError\u001b[0m: operands could not be broadcast together with shapes (4,) (3,) "
          ]
        }
      ]
    },
    {
      "cell_type": "code",
      "source": [
        "# MAX and MIN in a MATRIX\n",
        "np.max(ndarr1)\n",
        "np.min(ndarr1)"
      ],
      "metadata": {
        "colab": {
          "base_uri": "https://localhost:8080/"
        },
        "id": "nfR2WnMmEQ2d",
        "outputId": "f056ca7a-941a-4f8f-ede9-8baa3bce2420"
      },
      "execution_count": null,
      "outputs": [
        {
          "output_type": "execute_result",
          "data": {
            "text/plain": [
              "1"
            ]
          },
          "metadata": {},
          "execution_count": 33
        }
      ]
    },
    {
      "cell_type": "code",
      "source": [
        "# GENERATING RANDOM NO\n",
        "print(np.random.rand(5))\n",
        "print(np.random.rand(3,4))"
      ],
      "metadata": {
        "colab": {
          "base_uri": "https://localhost:8080/"
        },
        "id": "uIAwCEV8HZWO",
        "outputId": "6add13a3-f48e-4354-c9e5-5f5ceaa87e7c"
      },
      "execution_count": null,
      "outputs": [
        {
          "output_type": "stream",
          "name": "stdout",
          "text": [
            "[0.22578124 0.97583166 0.58742558 0.76092085 0.65282291]\n",
            "[[0.49578694 0.31480298 0.73989316 0.85820292]\n",
            " [0.64014964 0.02423458 0.8696806  0.57295433]\n",
            " [0.85647741 0.64567209 0.85449033 0.70381572]]\n"
          ]
        }
      ]
    },
    {
      "cell_type": "code",
      "source": [
        "# GENERATING NORMAL RANDOM NO\n",
        "# STANDARD DEVIATION (Mean 0 and Standard Deviation 1)\n",
        "ndarr1=np.random.randn(5)\n",
        "ndarr2=(np.random.randn(5,5))\n",
        "print(np.mean(ndarr2))\n",
        "print(np.std(ndarr2))"
      ],
      "metadata": {
        "colab": {
          "base_uri": "https://localhost:8080/"
        },
        "id": "dlh8NFdZzJse",
        "outputId": "f186202d-8a33-431f-abf2-166bda405b4e"
      },
      "execution_count": null,
      "outputs": [
        {
          "output_type": "stream",
          "name": "stdout",
          "text": [
            "-0.3810012352035933\n",
            "1.1480094971970214\n"
          ]
        }
      ]
    },
    {
      "cell_type": "code",
      "source": [
        "# RANDINT ( LOW, HIGH , NO)\n",
        "\n",
        "print(np.random.randint(1,10,10))\n",
        "print(np.random.randint(1,10,[5,5]))"
      ],
      "metadata": {
        "colab": {
          "base_uri": "https://localhost:8080/"
        },
        "id": "g6YKP4dG3yzs",
        "outputId": "290d9294-e24b-4e8d-cd7c-1c62f715641e"
      },
      "execution_count": null,
      "outputs": [
        {
          "output_type": "stream",
          "name": "stdout",
          "text": [
            "[8 7 7 4 6 2 6 8 9 8]\n",
            "[[4 1 6 1 3]\n",
            " [6 7 6 9 3]\n",
            " [8 4 7 3 8]\n",
            " [2 6 7 8 9]\n",
            " [8 9 8 4 8]]\n"
          ]
        }
      ]
    },
    {
      "cell_type": "code",
      "source": [
        "#ACCESSESSING THE NUMPY ARRAY\n",
        "ndarray=np.arange(1,10,2)\n",
        "ndarray[1]\n"
      ],
      "metadata": {
        "colab": {
          "base_uri": "https://localhost:8080/"
        },
        "id": "fTJI7M0zKLtS",
        "outputId": "3a84b682-bec9-4ebf-8bfc-be5bea361d19"
      },
      "execution_count": null,
      "outputs": [
        {
          "output_type": "execute_result",
          "data": {
            "text/plain": [
              "3"
            ]
          },
          "metadata": {},
          "execution_count": 5
        }
      ]
    },
    {
      "cell_type": "code",
      "source": [
        "ndarr1= np.arange(1,10).reshape(3,3)\n",
        "print(ndarr1)\n",
        "ndarr1[1][1]\n"
      ],
      "metadata": {
        "colab": {
          "base_uri": "https://localhost:8080/"
        },
        "id": "WgpZXftDuTd5",
        "outputId": "2468745e-33b4-4994-ce5c-948ab516d89c"
      },
      "execution_count": null,
      "outputs": [
        {
          "output_type": "stream",
          "name": "stdout",
          "text": [
            "[[1 2 3]\n",
            " [4 5 6]\n",
            " [7 8 9]]\n"
          ]
        },
        {
          "output_type": "execute_result",
          "data": {
            "text/plain": [
              "5"
            ]
          },
          "metadata": {},
          "execution_count": 15
        }
      ]
    },
    {
      "cell_type": "code",
      "source": [
        "# Modifying the sub matrix will update the original matrix\n",
        "\n",
        "org_matrix= np.random.rand(5,5)\n",
        "print(org_matrix)\n",
        "sub_matrix= org_matrix[1:3,3:5]\n",
        "print(sub_matrix)\n",
        "sub_matrix[:] = 3\n",
        "print(sub_matrix)\n",
        "print(org_matrix)"
      ],
      "metadata": {
        "colab": {
          "base_uri": "https://localhost:8080/"
        },
        "id": "UhI9iBb6EiA0",
        "outputId": "ad16fa96-0be9-47d3-b3df-d1aed5aac086"
      },
      "execution_count": null,
      "outputs": [
        {
          "output_type": "stream",
          "name": "stdout",
          "text": [
            "[[0.5068078  0.45139777 0.8430882  0.8609107  0.64473682]\n",
            " [0.66507801 0.31074235 0.48791898 0.06966133 0.5284197 ]\n",
            " [0.43113086 0.18647514 0.50714072 0.77852445 0.46296064]\n",
            " [0.09050631 0.78588305 0.03788381 0.91936921 0.27167459]\n",
            " [0.98374379 0.07518196 0.09154051 0.7563463  0.37642543]]\n",
            "[[0.06966133 0.5284197 ]\n",
            " [0.77852445 0.46296064]]\n",
            "[[3. 3.]\n",
            " [3. 3.]]\n",
            "[[0.5068078  0.45139777 0.8430882  0.8609107  0.64473682]\n",
            " [0.66507801 0.31074235 0.48791898 3.         3.        ]\n",
            " [0.43113086 0.18647514 0.50714072 3.         3.        ]\n",
            " [0.09050631 0.78588305 0.03788381 0.91936921 0.27167459]\n",
            " [0.98374379 0.07518196 0.09154051 0.7563463  0.37642543]]\n"
          ]
        }
      ]
    },
    {
      "cell_type": "code",
      "source": [
        "# .Copy to create the Shallow Copy of list and array\n",
        "org_matrix= np.random.rand(5,5)\n",
        "print(org_matrix)\n",
        "sub_matrix= org_matrix[1:3,3:5].copy() # creates a Shallow Copy\n",
        "sub_matrix[:]=3\n",
        "print(sub_matrix)\n",
        "print(org_matrix)"
      ],
      "metadata": {
        "colab": {
          "base_uri": "https://localhost:8080/"
        },
        "id": "5sTFFGDrWjFf",
        "outputId": "acb6887b-919a-4b33-ec86-a0812f23ba97"
      },
      "execution_count": null,
      "outputs": [
        {
          "output_type": "stream",
          "name": "stdout",
          "text": [
            "[[0.75249506 0.34352717 0.22097425 0.77105036 0.01248793]\n",
            " [0.85795622 0.15132919 0.07229855 0.46927533 0.4616023 ]\n",
            " [0.6804014  0.22333001 0.44969585 0.59920352 0.53264095]\n",
            " [0.25871422 0.7217417  0.44195767 0.1247179  0.38374955]\n",
            " [0.73999316 0.7027219  0.70169563 0.78080577 0.79101697]]\n",
            "[[3. 3.]\n",
            " [3. 3.]]\n",
            "[[0.75249506 0.34352717 0.22097425 0.77105036 0.01248793]\n",
            " [0.85795622 0.15132919 0.07229855 0.46927533 0.4616023 ]\n",
            " [0.6804014  0.22333001 0.44969585 0.59920352 0.53264095]\n",
            " [0.25871422 0.7217417  0.44195767 0.1247179  0.38374955]\n",
            " [0.73999316 0.7027219  0.70169563 0.78080577 0.79101697]]\n"
          ]
        }
      ]
    },
    {
      "cell_type": "code",
      "source": [
        "matrix = np.arange(1,10).reshape(3,3)\n",
        "matrix[0:2,1:2] = 0\n",
        "print(matrix)"
      ],
      "metadata": {
        "colab": {
          "base_uri": "https://localhost:8080/"
        },
        "id": "awJIMMMIYQy5",
        "outputId": "e3004801-1818-4c2a-de0e-0b6081725727"
      },
      "execution_count": null,
      "outputs": [
        {
          "output_type": "stream",
          "name": "stdout",
          "text": [
            "[[1 0 3]\n",
            " [4 0 6]\n",
            " [7 8 9]]\n"
          ]
        }
      ]
    },
    {
      "cell_type": "code",
      "source": [
        "np.random.randint(10,20,1000)"
      ],
      "metadata": {
        "colab": {
          "base_uri": "https://localhost:8080/"
        },
        "id": "pBnv7336067E",
        "outputId": "827ca074-2150-4ce0-96f3-2f6b3f8a3a33"
      },
      "execution_count": null,
      "outputs": [
        {
          "output_type": "execute_result",
          "data": {
            "text/plain": [
              "array([15, 10, 18, 11, 18, 14, 15, 17, 18, 17, 10, 14, 10, 17, 15, 16, 14,\n",
              "       11, 16, 12, 19, 14, 19, 10, 17, 18, 18, 18, 10, 16, 16, 18, 15, 12,\n",
              "       18, 19, 10, 18, 13, 19, 14, 16, 16, 13, 14, 15, 11, 12, 14, 19, 19,\n",
              "       19, 14, 11, 10, 17, 16, 14, 19, 18, 13, 16, 12, 15, 15, 12, 17, 19,\n",
              "       10, 19, 17, 15, 17, 19, 18, 19, 10, 11, 17, 17, 19, 17, 19, 15, 19,\n",
              "       18, 13, 18, 13, 10, 15, 16, 10, 14, 18, 14, 18, 11, 13, 11, 12, 17,\n",
              "       17, 15, 19, 16, 15, 19, 17, 15, 18, 17, 12, 15, 14, 18, 16, 12, 16,\n",
              "       13, 10, 13, 17, 19, 19, 19, 18, 19, 13, 16, 18, 12, 15, 15, 14, 15,\n",
              "       10, 14, 10, 19, 12, 13, 17, 11, 14, 16, 12, 17, 16, 18, 17, 19, 11,\n",
              "       13, 10, 10, 10, 16, 17, 10, 18, 13, 19, 11, 15, 18, 17, 18, 17, 11,\n",
              "       12, 17, 13, 16, 19, 16, 13, 11, 19, 18, 11, 16, 17, 12, 11, 15, 13,\n",
              "       15, 12, 15, 18, 16, 15, 15, 10, 14, 10, 18, 13, 10, 10, 18, 10, 12,\n",
              "       16, 14, 12, 17, 14, 12, 18, 18, 17, 18, 14, 15, 18, 13, 17, 18, 11,\n",
              "       11, 19, 15, 14, 12, 12, 17, 14, 19, 19, 16, 10, 18, 10, 17, 10, 15,\n",
              "       19, 15, 18, 14, 15, 16, 12, 11, 14, 14, 18, 18, 19, 14, 17, 14, 19,\n",
              "       10, 14, 15, 14, 14, 16, 17, 12, 17, 19, 12, 12, 10, 15, 13, 14, 15,\n",
              "       17, 17, 11, 14, 12, 10, 17, 15, 18, 19, 16, 16, 13, 10, 13, 10, 18,\n",
              "       12, 19, 18, 15, 10, 17, 11, 18, 19, 12, 16, 15, 18, 14, 14, 13, 11,\n",
              "       10, 17, 15, 13, 13, 10, 14, 11, 15, 15, 17, 14, 15, 16, 15, 19, 19,\n",
              "       11, 11, 17, 14, 10, 13, 13, 17, 12, 14, 10, 11, 19, 14, 18, 18, 16,\n",
              "       11, 10, 12, 11, 19, 12, 15, 15, 17, 13, 15, 16, 10, 14, 17, 19, 17,\n",
              "       19, 15, 15, 12, 17, 14, 19, 17, 15, 17, 19, 13, 17, 14, 16, 18, 18,\n",
              "       16, 17, 17, 14, 15, 18, 11, 12, 15, 10, 16, 15, 10, 14, 14, 19, 11,\n",
              "       14, 14, 15, 16, 19, 17, 10, 12, 13, 19, 13, 12, 14, 10, 11, 15, 18,\n",
              "       17, 17, 11, 11, 16, 11, 18, 11, 18, 19, 12, 17, 17, 15, 13, 13, 19,\n",
              "       18, 12, 10, 19, 15, 14, 16, 15, 12, 13, 15, 18, 15, 18, 19, 19, 16,\n",
              "       14, 16, 18, 15, 13, 12, 14, 18, 10, 18, 17, 14, 15, 17, 12, 19, 15,\n",
              "       11, 15, 15, 12, 13, 15, 10, 16, 15, 13, 15, 17, 17, 12, 13, 12, 14,\n",
              "       14, 19, 19, 15, 14, 18, 11, 15, 12, 15, 18, 13, 10, 12, 18, 15, 12,\n",
              "       11, 13, 19, 17, 13, 13, 13, 16, 11, 14, 19, 17, 15, 11, 18, 10, 11,\n",
              "       12, 11, 12, 13, 12, 17, 15, 15, 13, 10, 14, 16, 13, 13, 14, 17, 15,\n",
              "       18, 14, 11, 17, 16, 10, 16, 11, 15, 16, 19, 16, 13, 14, 15, 11, 15,\n",
              "       14, 17, 12, 15, 12, 19, 12, 19, 11, 12, 16, 19, 14, 12, 10, 12, 15,\n",
              "       15, 16, 11, 19, 14, 15, 18, 19, 11, 10, 12, 14, 17, 17, 13, 15, 14,\n",
              "       11, 19, 12, 17, 19, 15, 18, 12, 14, 13, 10, 13, 14, 19, 15, 17, 11,\n",
              "       19, 14, 11, 10, 10, 13, 15, 15, 13, 16, 17, 14, 15, 16, 12, 17, 16,\n",
              "       13, 16, 13, 15, 13, 14, 17, 11, 19, 16, 12, 10, 19, 10, 10, 14, 13,\n",
              "       17, 18, 12, 14, 13, 16, 14, 15, 15, 19, 17, 18, 19, 16, 11, 10, 10,\n",
              "       17, 10, 16, 17, 15, 18, 14, 10, 12, 11, 15, 13, 13, 14, 17, 16, 19,\n",
              "       15, 18, 19, 19, 14, 19, 15, 17, 14, 10, 19, 10, 17, 17, 14, 12, 14,\n",
              "       14, 18, 15, 11, 12, 12, 12, 18, 10, 16, 16, 18, 13, 14, 17, 14, 15,\n",
              "       18, 15, 17, 17, 14, 17, 17, 12, 15, 10, 11, 14, 12, 17, 15, 14, 15,\n",
              "       11, 11, 15, 11, 10, 17, 19, 15, 17, 12, 14, 13, 19, 17, 16, 11, 16,\n",
              "       15, 12, 17, 11, 10, 12, 12, 14, 13, 12, 13, 10, 11, 10, 18, 19, 10,\n",
              "       10, 16, 19, 14, 13, 10, 15, 14, 15, 15, 13, 18, 12, 12, 10, 10, 13,\n",
              "       15, 17, 14, 11, 10, 11, 15, 16, 13, 12, 13, 13, 19, 19, 13, 17, 15,\n",
              "       16, 19, 12, 19, 18, 15, 16, 16, 11, 14, 10, 13, 11, 13, 13, 12, 12,\n",
              "       10, 16, 18, 13, 10, 19, 18, 17, 19, 14, 11, 13, 16, 14, 10, 17, 14,\n",
              "       17, 12, 18, 17, 14, 12, 16, 15, 10, 13, 15, 19, 11, 19, 12, 14, 16,\n",
              "       16, 13, 14, 19, 15, 10, 11, 10, 18, 16, 19, 15, 11, 17, 17, 17, 15,\n",
              "       14, 12, 10, 17, 13, 15, 13, 12, 15, 16, 15, 17, 16, 10, 17, 10, 18,\n",
              "       12, 15, 12, 14, 13, 19, 16, 12, 17, 15, 12, 13, 15, 19, 18, 15, 19,\n",
              "       10, 15, 15, 14, 15, 10, 12, 13, 17, 16, 11, 10, 16, 15, 18, 11, 11,\n",
              "       12, 17, 13, 14, 16, 17, 16, 11, 14, 14, 15, 17, 12, 16, 18, 17, 16,\n",
              "       15, 10, 13, 19, 19, 14, 17, 15, 17, 13, 12, 12, 17, 19, 19, 14, 15,\n",
              "       15, 14, 14, 17, 12, 17, 10, 13, 13, 15, 13, 10, 19, 13, 16, 16, 19,\n",
              "       16, 11, 16, 19, 17, 18, 15, 12, 11, 12, 12, 11, 15, 18, 16, 15, 14,\n",
              "       15, 17, 19, 13, 18, 16, 13, 12, 15, 17, 11, 10, 10, 13, 15, 19, 14,\n",
              "       10, 17, 12, 17, 19, 10, 19, 18, 17, 10, 16, 10, 11, 16])"
            ]
          },
          "metadata": {},
          "execution_count": 6
        }
      ]
    },
    {
      "cell_type": "code",
      "source": [
        "from google.colab import drive\n",
        "drive.mount('/content/drive')\n",
        "\n"
      ],
      "metadata": {
        "colab": {
          "base_uri": "https://localhost:8080/"
        },
        "id": "nztPhkW3ycF9",
        "outputId": "f1e8ea67-6db7-44a1-9af7-6bf7ee6397c7"
      },
      "execution_count": null,
      "outputs": [
        {
          "output_type": "stream",
          "name": "stdout",
          "text": [
            "Mounted at /content/drive\n"
          ]
        }
      ]
    },
    {
      "cell_type": "code",
      "source": [
        "matrix1= np.random.randint(10,20,10).reshape(2,5)\n",
        "print(matrix1)\n",
        "np.save('/content/drive/MyDrive/Data/test',matrix1)"
      ],
      "metadata": {
        "colab": {
          "base_uri": "https://localhost:8080/"
        },
        "id": "ZpzVGZkP0Yf9",
        "outputId": "ba9e3db3-79e1-4b3b-f37c-3963c02a6090"
      },
      "execution_count": null,
      "outputs": [
        {
          "output_type": "stream",
          "name": "stdout",
          "text": [
            "[[10 10 10 19 16]\n",
            " [17 15 10 13 15]]\n"
          ]
        }
      ]
    },
    {
      "cell_type": "code",
      "source": [
        "ls /content/drive/MyDrive/Data"
      ],
      "metadata": {
        "id": "08tKneUS3IM0"
      },
      "execution_count": null,
      "outputs": []
    },
    {
      "cell_type": "code",
      "source": [
        "import pandas as pd\n",
        "data = {'A': [1, 2,3], 'B': [3, 4, 5]}\n",
        "df = pd.DataFrame(data)\n",
        "print(df)"
      ],
      "metadata": {
        "colab": {
          "base_uri": "https://localhost:8080/"
        },
        "id": "pCYrx6IXxQzc",
        "outputId": "fd6ebdc7-c9d6-41b2-d643-a1033236b1ae"
      },
      "execution_count": null,
      "outputs": [
        {
          "output_type": "stream",
          "name": "stdout",
          "text": [
            "   A  B\n",
            "0  1  3\n",
            "1  2  4\n",
            "2  3  5\n"
          ]
        }
      ]
    }
  ]
}